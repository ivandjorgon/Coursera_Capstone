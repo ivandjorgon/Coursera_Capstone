{
 "cells": [
  {
   "cell_type": "markdown",
   "metadata": {},
   "source": [
    "# Capstone Project - The Battle of Neighborhoods Week 1"
   ]
  },
  {
   "cell_type": "markdown",
   "metadata": {},
   "source": [
    "* Part I - A description of the problem and a discussion of the background\n",
    "* Part II - A description of the data and how it will be used to solve the problem"
   ]
  },
  {
   "cell_type": "markdown",
   "metadata": {},
   "source": [
    "### Part I"
   ]
  },
  {
   "cell_type": "markdown",
   "metadata": {},
   "source": [
    "#### Description of the problem\n",
    "\n",
    "Toronto's competetive restaurant scene is an impressive one thanks to the various chefs and restauranteurs who constantly bring people new places and cuisines to try. But, where is the best place to open up a Mexican eatery in the Greater Toronto Area?\n",
    "\n",
    "Over the next 50 years, the city is projected to grow at a thrilling rate. In 50 years, the GTA’s population will double. \n",
    "The city’s diverse population, currently at 2.9 million, will increase to almost 5 million. Nearly 10 per cent of new Torontonians will cram themselves into the core, a sliver that accounts for only three per cent of the city’s land mass. \n",
    "\n",
    "As a result - all things being equal and acknowledging the fact that opening a restaurant business requires deep pockets and lots of hard work, it would seem to be a good choice to open up a Mexican eatery in the core of the city. The question to be answered then is, which neighborhoods in Downtown Toronto would represent the best option."
   ]
  },
  {
   "cell_type": "markdown",
   "metadata": {},
   "source": [
    "#### Discussion of the background\n",
    "\n",
    "My client, a wealthy and successful restauranteur from Mexico is eager to expand business operations into Toronto. They want to create an authentic \n",
    "Mexican eatery that will serve and offer the full richness of Mexican culture and cuisine to the people of Downtown Toronto.\n",
    "\n",
    "Since Downtown Toronto is very competetive, my client needs insight from data in order to decide in which neighborhood to establish this authentic Mexican eatery. "
   ]
  },
  {
   "cell_type": "markdown",
   "metadata": {},
   "source": [
    "### Part II"
   ]
  },
  {
   "cell_type": "markdown",
   "metadata": {},
   "source": [
    "#### Description of the data\n",
    "\n",
    "This project will utilize publicly available data from Wikipedia and Foursquare. \n",
    "\n",
    "Specifically, all Toronto neighborhood details along with their postal codes are available here:\n",
    "https://en.wikipedia.org/wiki/List_of_postal_codes_of_Canada:_M\n",
    "\n",
    "The focus of this project will be the Downtown Toronto neighborhoods that will be extracted and analyzed accordingly.\n",
    "\n",
    "The Foursquare API will be utilized to obtain the geographical location data for Downtown Toronto, and data will be used to explore the restaurant venues in the neighbourhoods. The restaurants will provide the categories needed for the analysis and these will be used to determine the viability of the selected locations for the restaurant."
   ]
  },
  {
   "cell_type": "markdown",
   "metadata": {},
   "source": [
    "#### How data will be used to solve the problem\n",
    "\n",
    "The data from Wikipedia and Foursquare will be explored and analyzed by considering the restaurant venues in Downtown Toronto. The restaurants from the core of the city will be reviewed in terms of the types or categories of restaurants within a specific radius. \n",
    "\n",
    "The data will be utilized to come up with a frequency analysis for a Mexican eatery in Downtown Toronto, and to come up with the best choices of neighborhoods for my client."
   ]
  },
  {
   "cell_type": "code",
   "execution_count": null,
   "metadata": {},
   "outputs": [],
   "source": []
  }
 ],
 "metadata": {
  "kernelspec": {
   "display_name": "Python 3",
   "language": "python",
   "name": "python3"
  },
  "language_info": {
   "codemirror_mode": {
    "name": "ipython",
    "version": 3
   },
   "file_extension": ".py",
   "mimetype": "text/x-python",
   "name": "python",
   "nbconvert_exporter": "python",
   "pygments_lexer": "ipython3",
   "version": "3.6.8"
  }
 },
 "nbformat": 4,
 "nbformat_minor": 2
}
